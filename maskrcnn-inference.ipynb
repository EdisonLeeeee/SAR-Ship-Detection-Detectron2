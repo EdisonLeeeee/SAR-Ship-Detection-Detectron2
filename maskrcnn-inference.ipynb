{
 "cells": [
  {
   "cell_type": "code",
   "execution_count": 1,
   "metadata": {},
   "outputs": [],
   "source": [
    "import cv2\n",
    "import os\n",
    "import random\n",
    "import numpy as np\n",
    "\n",
    "from register_dataset import *\n",
    "from detectron2.engine import DefaultPredictor, default_setup\n",
    "from detectron2.utils.visualizer import Visualizer\n",
    "from detectron2.data import MetadataCatalog, DatasetCatalog\n",
    "from detectron2.config import get_cfg\n",
    "from detectron2 import model_zoo\n",
    "\n",
    "from utils import draw_rect"
   ]
  },
  {
   "cell_type": "code",
   "execution_count": 2,
   "metadata": {},
   "outputs": [],
   "source": [
    "dataset_name_train = \"HRSIDtrain2017\"\n",
    "dataset_name_test = \"HRSIDtest2017\"\n",
    "dataset_dicts = DatasetCatalog.get(dataset_name_test)\n",
    "dataset_metadata = MetadataCatalog.get(dataset_name_test)"
   ]
  },
  {
   "cell_type": "markdown",
   "metadata": {},
   "source": [
    "# Load model"
   ]
  },
  {
   "cell_type": "code",
   "execution_count": 3,
   "metadata": {},
   "outputs": [],
   "source": [
    "def setup(config_file):\n",
    "    \"\"\"\n",
    "    Create configs and perform basic setups.\n",
    "    \"\"\"\n",
    "    cfg = get_cfg()\n",
    "    cfg.merge_from_file(model_zoo.get_config_file(\"Misc/mask_rcnn_R_50_FPN_3x_gn.yaml\"))\n",
    "    cfg.MODEL.WEIGHTS = model_zoo.get_checkpoint_url(\"Misc/mask_rcnn_R_50_FPN_3x_gn.yaml\") \n",
    "    cfg.merge_from_file(config_file)\n",
    "    default_setup(cfg, None)\n",
    "    return cfg"
   ]
  },
  {
   "cell_type": "code",
   "execution_count": 4,
   "metadata": {},
   "outputs": [
    {
     "name": "stdout",
     "output_type": "stream",
     "text": [
      "\u001b[32m[02/27 22:54:35 fvcore.common.checkpoint]: \u001b[0mLoading checkpoint from output/HRSID/MaskRCNN-R50/model_final.pth\n"
     ]
    }
   ],
   "source": [
    "# cfg already contains everything we've set previously. Now we changed it a little bit for inference:\n",
    "cfg = setup(config_file='yamls/HRSID/MaskRCNN-R50.yaml' )\n",
    "cfg.MODEL.WEIGHTS = os.path.join(cfg.OUTPUT_DIR, \"model_final.pth\")  # path to the model we just trained\n",
    "cfg.MODEL.ROI_HEADS.SCORE_THRESH_TEST = 0.1   # custom testing threshold for R-CNN\n",
    "cfg.MODEL.RETINANET.SCORE_THRESH_TEST = 0.1   \n",
    "predictor = DefaultPredictor(cfg)"
   ]
  },
  {
   "cell_type": "markdown",
   "metadata": {},
   "source": [
    "# Visualization"
   ]
  },
  {
   "cell_type": "code",
   "execution_count": 5,
   "metadata": {},
   "outputs": [],
   "source": [
    "save_path = \"../exp_figs/MaskRCNN-R50\"\n",
    "!mkdir -p $save_path"
   ]
  },
  {
   "cell_type": "code",
   "execution_count": 6,
   "metadata": {},
   "outputs": [
    {
     "name": "stderr",
     "output_type": "stream",
     "text": [
      "/home/jtli/SAR/detectron2/detectron2/modeling/roi_heads/fast_rcnn.py:154: UserWarning: This overload of nonzero is deprecated:\n",
      "\tnonzero()\n",
      "Consider using one of the following signatures instead:\n",
      "\tnonzero(*, bool as_tuple) (Triggered internally at  /pytorch/torch/csrc/utils/python_arg_parser.cpp:882.)\n",
      "  filter_inds = filter_mask.nonzero()\n"
     ]
    }
   ],
   "source": [
    "for i, d in enumerate(dataset_dicts):\n",
    "    im = cv2.imread(d[\"file_name\"])\n",
    "    name = os.path.split(d[\"file_name\"])[1]\n",
    "    \n",
    "    true_coords = [ann['bbox'] for ann in d['annotations']]\n",
    "    true_coords = np.array(true_coords, dtype='int')  \n",
    "    \n",
    "    outputs = predictor(im)\n",
    "    pred_coords = outputs['instances'].get_fields()['pred_boxes'].tensor.cpu().numpy().astype('int')\n",
    "    pred_coords[:,2] -= pred_coords[:,0]\n",
    "    pred_coords[:,3] -= pred_coords[:,1]    \n",
    "    draw_rect(im, true_coords, pred_coords, save_path=os.path.join(save_path, str(i)))\n"
   ]
  },
  {
   "cell_type": "code",
   "execution_count": null,
   "metadata": {},
   "outputs": [],
   "source": []
  }
 ],
 "metadata": {
  "kernelspec": {
   "display_name": "Python 3",
   "language": "python",
   "name": "python3"
  },
  "language_info": {
   "codemirror_mode": {
    "name": "ipython",
    "version": 3
   },
   "file_extension": ".py",
   "mimetype": "text/x-python",
   "name": "python",
   "nbconvert_exporter": "python",
   "pygments_lexer": "ipython3",
   "version": "3.7.3"
  }
 },
 "nbformat": 4,
 "nbformat_minor": 4
}
