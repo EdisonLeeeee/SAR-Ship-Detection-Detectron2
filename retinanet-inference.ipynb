{
 "cells": [
  {
   "cell_type": "code",
   "execution_count": 1,
   "metadata": {},
   "outputs": [],
   "source": [
    "import cv2\n",
    "import os\n",
    "import random\n",
    "import numpy as np\n",
    "\n",
    "from register_dataset import *\n",
    "from detectron2.engine import DefaultPredictor, default_setup\n",
    "from detectron2.utils.visualizer import Visualizer\n",
    "from detectron2.data import MetadataCatalog, DatasetCatalog\n",
    "from detectron2.config import get_cfg\n",
    "from detectron2 import model_zoo\n",
    "from utils import draw_rect  \n"
   ]
  },
  {
   "cell_type": "code",
   "execution_count": 2,
   "metadata": {},
   "outputs": [],
   "source": [
    "dataset_name_train = \"HRSIDtrain2017\"\n",
    "dataset_name_test = \"HRSIDtest2017\"\n",
    "dataset_dicts = DatasetCatalog.get(dataset_name_test)\n",
    "dataset_metadata = MetadataCatalog.get(dataset_name_test)"
   ]
  },
  {
   "cell_type": "markdown",
   "metadata": {},
   "source": [
    "# Load model"
   ]
  },
  {
   "cell_type": "code",
   "execution_count": 7,
   "metadata": {},
   "outputs": [],
   "source": [
    "def setup(config_file):\n",
    "    \"\"\"\n",
    "    Create configs and perform basic setups.\n",
    "    \"\"\"\n",
    "    cfg = get_cfg()\n",
    "    cfg.merge_from_file(model_zoo.get_config_file(\"COCO-Detection/retinanet_R_50_FPN_3x.yaml\"))\n",
    "    cfg.MODEL.WEIGHTS = model_zoo.get_checkpoint_url(\"COCO-Detection/retinanet_R_50_FPN_3x.yaml\") \n",
    "    cfg.merge_from_file(config_file)\n",
    "    default_setup(cfg, None)\n",
    "    return cfg"
   ]
  },
  {
   "cell_type": "code",
   "execution_count": null,
   "metadata": {},
   "outputs": [],
   "source": [
    "# cfg already contains everything we've set previously. Now we changed it a little bit for inference:\n",
    "cfg = setup(config_file='yamls/HRSID/Retinanet-R50.yaml' )\n",
    "cfg.MODEL.WEIGHTS = os.path.join(cfg.OUTPUT_DIR, \"model_final.pth\")  # path to the model we just trained\n",
    "cfg.MODEL.ROI_HEADS.SCORE_THRESH_TEST = 0.5   # custom testing threshold for R-CNN\n",
    "cfg.MODEL.RETINANET.SCORE_THRESH_TEST = 0.5   # custom testing threshold for R-CNN\n",
    "predictor = DefaultPredictor(cfg)"
   ]
  },
  {
   "cell_type": "markdown",
   "metadata": {},
   "source": [
    "# Visualization"
   ]
  },
  {
   "cell_type": "code",
   "execution_count": 12,
   "metadata": {},
   "outputs": [],
   "source": [
    "save_path = \"../exp_figs/Retinanet-R50\"\n",
    "!mkdir -p $save_path"
   ]
  },
  {
   "cell_type": "code",
   "execution_count": 14,
   "metadata": {},
   "outputs": [],
   "source": [
    "for i, d in enumerate(dataset_dicts):\n",
    "    if  i not in [50, 358, 1389, 1587]: continue\n",
    "    im = cv2.imread(d[\"file_name\"])\n",
    "    name = os.path.split(d[\"file_name\"])[1]\n",
    "    \n",
    "    true_coords = [ann['bbox'] for ann in d['annotations']]\n",
    "    true_coords = np.array(true_coords, dtype='int')  \n",
    "    \n",
    "    outputs = predictor(im)\n",
    "    pred_coords = outputs['instances'].get_fields()['pred_boxes'].tensor.cpu().numpy().astype('int')\n",
    "    pred_coords[:,2] -= pred_coords[:,0]\n",
    "    pred_coords[:,3] -= pred_coords[:,1]    \n",
    "    draw_rect(im, true_coords, pred_coords, save_path=os.path.join(save_path, str(i)))\n"
   ]
  },
  {
   "cell_type": "code",
   "execution_count": null,
   "metadata": {},
   "outputs": [],
   "source": []
  }
 ],
 "metadata": {
  "kernelspec": {
   "display_name": "Python 3",
   "language": "python",
   "name": "python3"
  },
  "language_info": {
   "codemirror_mode": {
    "name": "ipython",
    "version": 3
   },
   "file_extension": ".py",
   "mimetype": "text/x-python",
   "name": "python",
   "nbconvert_exporter": "python",
   "pygments_lexer": "ipython3",
   "version": "3.7.3"
  }
 },
 "nbformat": 4,
 "nbformat_minor": 4
}
